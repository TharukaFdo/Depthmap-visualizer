{
 "cells": [
  {
   "cell_type": "markdown",
   "id": "2047d7ab",
   "metadata": {},
   "source": [
    "# Colab Depth Visualizer for Multiple EXR Files\n",
    "\n",
    "Upload multiple `.exr` files and visualize their R, G, B channels and combined RGB in Google Colab."
   ]
  },
  {
   "cell_type": "code",
   "execution_count": null,
   "id": "ceabaff7",
   "metadata": {},
   "outputs": [],
   "source": [
    "# Install system and Python dependencies\n",
    "!apt-get update -qq\n",
    "!apt-get install -y libopenexr-dev\n",
    "!pip install -q OpenEXR Imath numpy matplotlib"
   ]
  },
  {
   "cell_type": "code",
   "execution_count": null,
   "id": "79874955",
   "metadata": {},
   "outputs": [],
   "source": [
    "%matplotlib inline\n",
    "import OpenEXR\n",
    "import Imath\n",
    "import numpy as np\n",
    "import matplotlib.pyplot as plt\n",
    "from google.colab import files\n",
    "import os"
   ]
  },
  {
   "cell_type": "code",
   "execution_count": null,
   "id": "72759bba",
   "metadata": {},
   "outputs": [],
   "source": [
    "# Upload multiple EXR files\n",
    "print(\"Select and upload one or more .exr files:\")\n",
    "uploaded = files.upload()\n",
    "filepaths = list(uploaded.keys())\n",
    "print(f\"Uploaded {len(filepaths)} files:\")\n",
    "for fp in filepaths:\n",
    "    print(\" -\", fp)"
   ]
  },
  {
   "cell_type": "code",
   "execution_count": null,
   "id": "784dcad6",
   "metadata": {},
   "outputs": [],
   "source": [
    "# Define helper functions\n",
    "def load_exr(filename):\n",
    "    exr = OpenEXR.InputFile(filename)\n",
    "    dw = exr.header()['dataWindow']\n",
    "    W = dw.max.x - dw.min.x + 1\n",
    "    H = dw.max.y - dw.min.y + 1\n",
    "    pt = Imath.PixelType(Imath.PixelType.FLOAT)\n",
    "    channels = {}\n",
    "    for c in ('R', 'G', 'B'):\n",
    "        buf = exr.channel(c, pt)\n",
    "        arr = np.frombuffer(buf, dtype=np.float32)\n",
    "        channels[c] = arr.reshape(H, W)\n",
    "    return channels\n",
    "\n",
    "def normalize_channel(arr):\n",
    "    mn, mx = arr.min(), arr.max()\n",
    "    return (arr - mn) / (mx - mn + 1e-8)"
   ]
  },
  {
   "cell_type": "code",
   "execution_count": null,
   "id": "aa3f3347",
   "metadata": {},
   "outputs": [],
   "source": [
    "# Process and visualize each uploaded file\n",
    "for filepath in filepaths:\n",
    "    print(f\"\\nProcessing {filepath}\")\n",
    "    channels = load_exr(filepath)\n",
    "    for c in channels:\n",
    "        print(f\"  {c} channel shape: {channels[c].shape}\")\n",
    "    normed = {c: normalize_channel(channels[c]) for c in channels}\n",
    "    rgb = np.stack([normed[c] for c in ('R','G','B')], axis=-1)\n",
    "\n",
    "    fig, axs = plt.subplots(1, 4, figsize=(20, 5))\n",
    "    for i, c in enumerate(('R','G','B')):\n",
    "        im = axs[i].imshow(channels[c], cmap='plasma')\n",
    "        axs[i].set_title(f'{c} Channel')\n",
    "        axs[i].axis('off')\n",
    "        plt.colorbar(im, ax=axs[i], fraction=0.046, pad=0.04)\n",
    "    axs[3].imshow(rgb)\n",
    "    axs[3].set_title('Combined RGB')\n",
    "    axs[3].axis('off')\n",
    "    plt.suptitle(filepath, fontsize=14)\n",
    "    plt.tight_layout()\n",
    "    plt.show()"
   ]
  }
 ],
 "metadata": {},
 "nbformat": 4,
 "nbformat_minor": 5
}
