{
  "cells": [
    {
      "cell_type": "code",
      "execution_count": null,
      "metadata": {
        "colab": {
          "base_uri": "https://localhost:8080/"
        },
        "id": "BtfzZsS-BJWO",
        "outputId": "c5dee68a-944d-4c49-d3b7-a02dfcdf4bd9"
      },
      "outputs": [],
      "source": [
        "!apt install -y libopenexr-dev\n",
        "!pip install OpenEXR==1.3.2"
      ]
    },
    {
      "cell_type": "code",
      "execution_count": null,
      "metadata": {
        "colab": {
          "base_uri": "https://localhost:8080/",
          "height": 73
        },
        "id": "uMgAByFfBoeK",
        "outputId": "2186bea3-b1ac-4053-b8b0-4c1aa0272400"
      },
      "outputs": [],
      "source": [
        "from google.colab import files\n",
        "uploaded = files.upload()\n",
        "filename = list(uploaded.keys())[0]"
      ]
    },
    {
      "cell_type": "code",
      "execution_count": null,
      "metadata": {
        "colab": {
          "base_uri": "https://localhost:8080/",
          "height": 385
        },
        "id": "OTnfX7xRByab",
        "outputId": "8b1f4f0a-00f1-4c72-e300-b1a71533fff6"
      },
      "outputs": [],
      "source": [
        "import OpenEXR\n",
        "import Imath\n",
        "import numpy as np\n",
        "import matplotlib.pyplot as plt\n",
        "\n",
        "# Load the EXR file\n",
        "filename = \"frame_0000.exr\"\n",
        "exr_file = OpenEXR.InputFile(filename)\n",
        "\n",
        "# Get dimensions\n",
        "dw = exr_file.header()['dataWindow']\n",
        "width = dw.max.x - dw.min.x + 1\n",
        "height = dw.max.y - dw.min.y + 1\n",
        "\n",
        "# Define pixel type and channels\n",
        "pt = Imath.PixelType(Imath.PixelType.FLOAT)\n",
        "channels = ['R', 'G', 'B']\n",
        "\n",
        "# Load channels\n",
        "rgb = {\n",
        "    c: np.frombuffer(exr_file.channel(c, pt), dtype=np.float32).reshape(height, width)\n",
        "    for c in channels\n",
        "}\n",
        "\n",
        "# Normalize for consistent display (0 to 1)\n",
        "rgb_norm = {c: (rgb[c] - np.min(rgb[c])) / (np.max(rgb[c]) - np.min(rgb[c]) + 1e-8) for c in channels}\n",
        "rgb_image = np.stack([rgb_norm['R'], rgb_norm['G'], rgb_norm['B']], axis=-1)\n",
        "\n",
        "# Plot with colorbars for R, G, B\n",
        "fig, axs = plt.subplots(1, 4, figsize=(24, 6))\n",
        "\n",
        "for i, c in enumerate(channels):\n",
        "    im = axs[i].imshow(rgb[c], cmap='plasma')\n",
        "    axs[i].set_title(f'{c} Channel')\n",
        "    axs[i].axis('off')\n",
        "    plt.colorbar(im, ax=axs[i], fraction=0.046, pad=0.04)\n",
        "\n",
        "axs[3].imshow(rgb_image)\n",
        "axs[3].set_title('Combined RGB')\n",
        "axs[3].axis('off')\n",
        "\n",
        "plt.suptitle(\"EXR Channels with Plasma Colormap + Combined RGB\", fontsize=18)\n",
        "plt.tight_layout()\n",
        "plt.show()\n",
        "\n",
        "\n"
      ]
    }
  ],
  "metadata": {
    "accelerator": "GPU",
    "colab": {
      "gpuType": "T4",
      "provenance": []
    },
    "kernelspec": {
      "display_name": "Python 3",
      "name": "python3"
    },
    "language_info": {
      "name": "python"
    }
  },
  "nbformat": 4,
  "nbformat_minor": 0
}
