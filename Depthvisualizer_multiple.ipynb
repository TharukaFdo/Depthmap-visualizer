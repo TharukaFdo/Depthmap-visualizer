{
 "cells": [
  {
   "cell_type": "markdown",
   "id": "0af3c205",
   "metadata": {},
   "source": [
    "# Depth Visualizer for Multiple EXR Files\n",
    "\n",
    "Select multiple `.exr` files and visualize their R, G, B channels and combined RGB in sequence."
   ]
  },
  {
   "cell_type": "code",
   "execution_count": null,
   "id": "05b813f3",
   "metadata": {},
   "outputs": [],
   "source": [
    "%matplotlib inline\n",
    "import os\n",
    "import tkinter as tk\n",
    "from tkinter import filedialog\n",
    "\n",
    "import OpenEXR\n",
    "import Imath\n",
    "import numpy as np\n",
    "import matplotlib.pyplot as plt\n",
    "\n",
    "# File-selection dialog for multiple files\n",
    "root = tk.Tk()\n",
    "root.withdraw()\n",
    "filepaths = filedialog.askopenfilenames(\n",
    "    title=\"Select one or more OpenEXR files\",\n",
    "    filetypes=[(\"OpenEXR files\", \"*.exr\"), (\"All files\", \"*.*\")]\n",
    ")\n",
    "root.destroy()\n",
    "\n",
    "filepaths = list(filepaths)\n",
    "print(f\"Selected {len(filepaths)} files:\")\n",
    "for f in filepaths:\n",
    "    print(\" -\", f)"
   ]
  },
  {
   "cell_type": "code",
   "execution_count": null,
   "id": "4774a794",
   "metadata": {},
   "outputs": [],
   "source": [
    "# Process and visualize each file\n",
    "# Function definitions\n",
    "def load_exr(filename):\n",
    "    \"\"\"Load R, G, B channels from an EXR into numpy arrays.\"\"\"\n",
    "    exr = OpenEXR.InputFile(filename)\n",
    "    dw = exr.header()[\"dataWindow\"]\n",
    "    W = dw.max.x - dw.min.x + 1\n",
    "    H = dw.max.y - dw.min.y + 1\n",
    "    pt = Imath.PixelType(Imath.PixelType.FLOAT)\n",
    "\n",
    "    channels = {}\n",
    "    for c in (\"R\", \"G\", \"B\"):\n",
    "        buf = exr.channel(c, pt)\n",
    "        arr = np.frombuffer(buf, dtype=np.float32)\n",
    "        channels[c] = arr.reshape(H, W)\n",
    "\n",
    "    return channels\n",
    "\n",
    "def normalize_channel(arr):\n",
    "    \"\"\"Scale a float32 array to [0,1] for display.\"\"\"\n",
    "    mn, mx = arr.min(), arr.max()\n",
    "    return (arr - mn) / (mx - mn + 1e-8)\n",
    "\n",
    "for filepath in filepaths:\n",
    "    if not os.path.isfile(filepath):\n",
    "        print(f\"File not found: {filepath}\")\n",
    "        continue\n",
    "\n",
    "    print(f\"\\nProcessing: {filepath}\")\n",
    "    channels = load_exr(filepath)\n",
    "    for c in channels:\n",
    "        print(f\" {c} channel shape: {channels[c].shape}\")\n",
    "\n",
    "    # Normalize and stack for RGB\n",
    "    normed = {c: normalize_channel(channels[c]) for c in (\"R\", \"G\", \"B\")}\n",
    "    rgb = np.stack([normed[c] for c in (\"R\", \"G\", \"B\")], axis=-1)\n",
    "\n",
    "    # Plot\n",
    "    fig, axs = plt.subplots(1, 4, figsize=(20, 5))\n",
    "    for i, c in enumerate((\"R\", \"G\", \"B\")):\n",
    "        im = axs[i].imshow(channels[c], cmap=\"plasma\")\n",
    "        axs[i].set_title(f\"{c} Channel\")\n",
    "        axs[i].axis(\"off\")\n",
    "        plt.colorbar(im, ax=axs[i], fraction=0.046, pad=0.04)\n",
    "\n",
    "    axs[3].imshow(rgb)\n",
    "    axs[3].set_title(\"Combined RGB\")\n",
    "    axs[3].axis(\"off\")\n",
    "\n",
    "    plt.suptitle(os.path.basename(filepath), fontsize=14)\n",
    "    plt.tight_layout()\n",
    "    plt.show()"
   ]
  }
 ],
 "metadata": {
  "kernelspec": {
   "display_name": "Python 3",
   "language": "python",
   "name": "python3"
  },
  "language_info": {
   "codemirror_mode": {
    "name": "ipython",
    "version": 3
   },
   "file_extension": ".py",
   "mimetype": "text/x-python",
   "name": "python",
   "nbconvert_exporter": "python",
   "pygments_lexer": "ipython3",
   "version": "3.10.16"
  }
 },
 "nbformat": 4,
 "nbformat_minor": 5
}
